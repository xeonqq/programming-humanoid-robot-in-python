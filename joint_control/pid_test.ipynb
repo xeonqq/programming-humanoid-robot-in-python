{
 "metadata": {
  "name": "",
  "signature": "sha256:7204c0717edab4f9227a67e08ab502aa2ca3d9895a2a410bd17e00aa3081825d"
 },
 "nbformat": 3,
 "nbformat_minor": 0,
 "worksheets": [
  {
   "cells": [
    {
     "cell_type": "code",
     "collapsed": false,
     "input": [],
     "language": "python",
     "metadata": {},
     "outputs": [],
     "prompt_number": 0
    },
    {
     "cell_type": "code",
     "collapsed": false,
     "input": [
      "%matplotlib inline\n",
      "from pylab import *\n",
      "from IPython.html.widgets import interact\n",
      "from IPython import display\n",
      "from collections import deque"
     ],
     "language": "python",
     "metadata": {},
     "outputs": [],
     "prompt_number": 1
    },
    {
     "cell_type": "code",
     "collapsed": false,
     "input": [
      "from pid import PIDAgent\n",
      "agent = PIDAgent()"
     ],
     "language": "python",
     "metadata": {},
     "outputs": [],
     "prompt_number": 2
    },
    {
     "cell_type": "code",
     "collapsed": false,
     "input": [
      "@interact(kp=(0, 100, 1), ki=(-1, 1, 0.1), kd=(-1, 1, 0.1), delay=(0, 5))\n",
      "def set_pid_parameters(kp=0, ki=0, kd=0, delay=0):\n",
      "    global agent\n",
      "    agent.joint_controller.Kp = kp\n",
      "    agent.joint_controller.Ki = ki\n",
      "    agent.joint_controller.Kd = kd\n",
      "    agent.joint_controller.set_delay(delay)\n",
      "\n",
      "joint_name = 'HeadYaw'\n",
      "sensor = deque(maxlen=100)\n",
      "target = deque(maxlen=100)\n",
      "\n",
      "@interact(name=agent.joint_names)\n",
      "def set_joint_name(name):\n",
      "    global joint_name\n",
      "    if joint_name != name:\n",
      "        joint_name = name\n",
      "        sensor.clear()\n",
      "        target.clear()\n",
      "\n",
      "@interact(value=(-1, 1, 0.1))\n",
      "def set_joint_target(value):\n",
      "    agent.target_joints[joint_name] = value"
     ],
     "language": "python",
     "metadata": {},
     "outputs": [
      {
       "metadata": {},
       "output_type": "display_data",
       "png": "[encoded data removed]",
       "text": [
        "<matplotlib.figure.Figure at 0x7fa9e6b02f50>"
       ]
      }
     ],
     "prompt_number": 3
    },
    {
     "cell_type": "code",
     "collapsed": false,
     "input": [
      "# inject plotting input agent's loop\n",
      "cycle = 0\n",
      "orig_sense_think_act = agent.sense_think_act\n",
      "def sense_think_act():\n",
      "    global cycle\n",
      "    cycle += 1\n",
      "    orig_sense_think_act()\n",
      "    sensor.append(agent.perception.joint[joint_name])\n",
      "    target.append(agent.target_joints[joint_name])\n",
      "    if cycle % 10 == 0:  # plot every 10 cycles\n",
      "        cla()\n",
      "        plot(target, '-r')\n",
      "        plot(sensor, '-b')\n",
      "        display.clear_output(wait=True)\n",
      "        display.display(gcf())\n",
      "agent.sense_think_act = sense_think_act\n",
      "agent.start()"
     ],
     "language": "python",
     "metadata": {},
     "outputs": [
      {
       "metadata": {},
       "output_type": "display_data",
       "png": "[encoded data removed]",
       "text": [
        "<matplotlib.figure.Figure at 0x7faa00b69690>"
       ]
      }
     ],
     "prompt_number": 4
    },
    {
     "cell_type": "code",
     "collapsed": false,
     "input": [],
     "language": "python",
     "metadata": {},
     "outputs": [],
     "prompt_number": 4
    },
    {
     "cell_type": "code",
     "collapsed": false,
     "input": [],
     "language": "python",
     "metadata": {},
     "outputs": [],
     "prompt_number": 4
    },
    {
     "cell_type": "code",
     "collapsed": false,
     "input": [],
     "language": "python",
     "metadata": {},
     "outputs": [
      {
       "metadata": {},
       "output_type": "display_data",
       "png": "[encoded data removed]",
       "text": [
        "<matplotlib.figure.Figure at 0x7ffb2c0bf7d0>"
       ]
      }
     ],
     "prompt_number": 4
    }
   ],
   "metadata": {}
  }
 ]
}