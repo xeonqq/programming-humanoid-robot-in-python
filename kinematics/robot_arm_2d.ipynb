{
 "metadata": {
  "name": "",
  "signature": "sha256:af9bccef1782fdc5e82ec673e12136b09a0f8ec008357b1828a7f9a5266aea4b"
 },
 "nbformat": 3,
 "nbformat_minor": 0,
 "worksheets": [
  {
   "cells": [
    {
     "cell_type": "heading",
     "level": 1,
     "metadata": {},
     "source": [
      "Robot Arm Kinematics (2D)"
     ]
    },
    {
     "cell_type": "code",
     "collapsed": false,
     "input": [
      "%matplotlib inline\n",
      "from pylab import *\n",
      "from numpy import sin, cos, pi, matrix, random\n",
      "from __future__ import division\n",
      "from math import atan2\n",
      "rcParams['figure.figsize'] = 12, 10  # that's default image size for this interactive session\n",
      "from IPython import display\n",
      "from IPython.html.widgets import interact, fixed"
     ],
     "language": "python",
     "metadata": {},
     "outputs": [],
     "prompt_number": 3
    },
    {
     "cell_type": "heading",
     "level": 2,
     "metadata": {},
     "source": [
      "Coordinate Transformation"
     ]
    },
    {
     "cell_type": "code",
     "collapsed": false,
     "input": [
      "def trans(x, y, a):\n",
      "    '''create a 2D transformation'''\n",
      "    s = sin(a)\n",
      "    c = cos(a)\n",
      "    return matrix([[c, -s, x],\n",
      "                   [s,  c, y],\n",
      "                   [0,  0, 1]])\n",
      "\n",
      "def from_trans(m):\n",
      "    '''get x, y, theta from transform matrix'''\n",
      "    return [m[0, -1], m[1, -1], atan2(m[1, 0], m[0, 0])]"
     ],
     "language": "python",
     "metadata": {},
     "outputs": [],
     "prompt_number": 4
    },
    {
     "cell_type": "code",
     "collapsed": false,
     "input": [
      "trans(0, 0, 0)"
     ],
     "language": "python",
     "metadata": {},
     "outputs": [
      {
       "metadata": {},
       "output_type": "pyout",
       "prompt_number": 5,
       "text": [
        "matrix([[ 1., -0.,  0.],\n",
        "        [ 0.,  1.,  0.],\n",
        "        [ 0.,  0.,  1.]])"
       ]
      }
     ],
     "prompt_number": 5
    },
    {
     "cell_type": "heading",
     "level": 2,
     "metadata": {},
     "source": [
      "Parameters of robot arm"
     ]
    },
    {
     "cell_type": "code",
     "collapsed": false,
     "input": [
      "N = 3  # number of links\n",
      "l = [0] + range(N, 0, -1)  # length of link, l[0] is ingored\n",
      "max_len = sum(l)\n",
      "a = random.random_sample(N)  # angles of joints\n",
      "T0 = trans(0, 0, 0)  # base"
     ],
     "language": "python",
     "metadata": {},
     "outputs": [],
     "prompt_number": 9
    },
    {
     "cell_type": "heading",
     "level": 2,
     "metadata": {},
     "source": [
      "Forward Kinematics"
     ]
    },
    {
     "cell_type": "code",
     "collapsed": false,
     "input": [
      "def forward_kinematics(T0, l, a):\n",
      "    T = [T0]\n",
      "    for i in range(len(a)):\n",
      "        Ti = T[-1] * trans(l[i], 0, a[i])\n",
      "        T.append(Ti)\n",
      "    Te = T[-1] * trans(l[-1], 0, 0)  # end effector\n",
      "    T.append(Te)\n",
      "    print len(T)\n",
      "    return T\n"
     ],
     "language": "python",
     "metadata": {},
     "outputs": [],
     "prompt_number": 18
    },
    {
     "cell_type": "code",
     "collapsed": false,
     "input": [
      "def show_robot_arm(T):\n",
      "    cla()\n",
      "    x = [Ti[0,-1] for Ti in T]\n",
      "    y = [Ti[1,-1] for Ti in T]\n",
      "    plot(x, y, '-or', linewidth=5, markersize=10)\n",
      "    xlim([-max_len, max_len])\n",
      "    ylim([-max_len, max_len]) \n",
      "    ax = axes()\n",
      "    ax.set_aspect('equal')\n",
      "    t = atan2(T[-1][1, 0], T[-1][0,0])\n",
      "    ax.annotate('[%f,%f,%f]' % (x[-1], y[-1], t), xy=(x[-1], y[-1]), xytext=(x[-1], y[-1] + 0.5))\n",
      "    display.clear_output(wait=True)\n",
      "    "
     ],
     "language": "python",
     "metadata": {},
     "outputs": [],
     "prompt_number": 19
    },
    {
     "cell_type": "code",
     "collapsed": false,
     "input": [
      "\n",
      "for i in range(N):\n",
      "    @interact(value=(-pi/2, pi/2, 0.1), n=fixed(i))\n",
      "    def set_joint_angle(n, value=0):\n",
      "        global a\n",
      "        a[n] = value\n",
      "        T = forward_kinematics(T0, l, a)\n",
      "        show_robot_arm(T)\n"
     ],
     "language": "python",
     "metadata": {},
     "outputs": [
      {
       "metadata": {},
       "output_type": "display_data",
       "png": "[encoded data removed]",
       "text": [
        "<matplotlib.figure.Figure at 0x7f7884a1a090>"
       ]
      }
     ],
     "prompt_number": 20
    },
    {
     "cell_type": "heading",
     "level": 2,
     "metadata": {},
     "source": [
      "Inverse Kinematics"
     ]
    },
    {
     "cell_type": "heading",
     "level": 2,
     "metadata": {},
     "source": [
      "Analytical Solutions with Sympy"
     ]
    },
    {
     "cell_type": "markdown",
     "metadata": {},
     "source": [
      "[SymPy](http://sympy.org/) is a Python library for symbolic mathematics."
     ]
    },
    {
     "cell_type": "code",
     "collapsed": false,
     "input": [
      "from sympy import init_printing, sin, cos, pi, asin, acos, atan2, atan, sqrt, simplify, solve, latex, symbols\n",
      "from sympy import Matrix as matrix\n",
      "init_printing()"
     ],
     "language": "python",
     "metadata": {},
     "outputs": [],
     "prompt_number": 30
    },
    {
     "cell_type": "code",
     "collapsed": false,
     "input": [
      "from sympy.abc import x, y, theta\n",
      "trans(x, y, theta)"
     ],
     "language": "python",
     "metadata": {},
     "outputs": [
      {
       "latex": [
        "$$\\left[\\begin{matrix}\\cos{\\left (\\theta \\right )} & - \\sin{\\left (\\theta \\right )} & x\\\\\\sin{\\left (\\theta \\right )} & \\cos{\\left (\\theta \\right )} & y\\\\0 & 0 & 1\\end{matrix}\\right]$$"
       ],
       "metadata": {},
       "output_type": "pyout",
       "png": "[encoded data removed]",
       "prompt_number": 31,
       "text": [
        "\u23a1cos(\u03b8)  -sin(\u03b8)  x\u23a4\n",
        "\u23a2                  \u23a5\n",
        "\u23a2sin(\u03b8)  cos(\u03b8)   y\u23a5\n",
        "\u23a2                  \u23a5\n",
        "\u23a3  0        0     1\u23a6"
       ]
      }
     ],
     "prompt_number": 31
    },
    {
     "cell_type": "code",
     "collapsed": false,
     "input": [
      "N = 4\n",
      "l = [symbols('l_%d' % i) for i in range(N + 1)]\n",
      "l[0] = 0\n",
      "a = [symbols('theta_%d' % i) for i in range(N)]\n",
      "T0 = trans(0, 0, 0)"
     ],
     "language": "python",
     "metadata": {},
     "outputs": [],
     "prompt_number": 32
    },
    {
     "cell_type": "code",
     "collapsed": false,
     "input": [
      "l, a"
     ],
     "language": "python",
     "metadata": {},
     "outputs": [
      {
       "latex": [
        "$$\\left ( \\left [ 0, \\quad l_{1}, \\quad l_{2}, \\quad l_{3}, \\quad l_{4}\\right ], \\quad \\left [ \\theta_{0}, \\quad \\theta_{1}, \\quad \\theta_{2}, \\quad \\theta_{3}\\right ]\\right )$$"
       ],
       "metadata": {},
       "output_type": "pyout",
       "png": "[encoded data removed]",
       "prompt_number": 33,
       "text": [
        "([0, l\u2081, l\u2082, l\u2083, l\u2084], [\u03b8\u2080, \u03b8\u2081, \u03b8\u2082, \u03b8\u2083])"
       ]
      }
     ],
     "prompt_number": 33
    },
    {
     "cell_type": "code",
     "collapsed": false,
     "input": [
      "T0"
     ],
     "language": "python",
     "metadata": {},
     "outputs": [
      {
       "latex": [
        "$$\\left[\\begin{matrix}1 & 0 & 0\\\\0 & 1 & 0\\\\0 & 0 & 1\\end{matrix}\\right]$$"
       ],
       "metadata": {},
       "output_type": "pyout",
       "png": "[encoded data removed]",
       "prompt_number": 34,
       "text": [
        "\u23a11  0  0\u23a4\n",
        "\u23a2       \u23a5\n",
        "\u23a20  1  0\u23a5\n",
        "\u23a2       \u23a5\n",
        "\u23a30  0  1\u23a6"
       ]
      }
     ],
     "prompt_number": 34
    },
    {
     "cell_type": "code",
     "collapsed": false,
     "input": [
      "T = forward_kinematics(T0, l, a)\n",
      "Te = T[-1]\n",
      "Te"
     ],
     "language": "python",
     "metadata": {},
     "outputs": [
      {
       "output_type": "stream",
       "stream": "stdout",
       "text": [
        "6\n"
       ]
      },
      {
       "latex": [
        "$$\\left[\\begin{matrix}\\left(- \\left(- \\sin{\\left (\\theta_{0} \\right )} \\sin{\\left (\\theta_{1} \\right )} + \\cos{\\left (\\theta_{0} \\right )} \\cos{\\left (\\theta_{1} \\right )}\\right) \\sin{\\left (\\theta_{2} \\right )} + \\left(- \\sin{\\left (\\theta_{0} \\right )} \\cos{\\left (\\theta_{1} \\right )} - \\sin{\\left (\\theta_{1} \\right )} \\cos{\\left (\\theta_{0} \\right )}\\right) \\cos{\\left (\\theta_{2} \\right )}\\right) \\sin{\\left (\\theta_{3} \\right )} + \\left(\\left(- \\sin{\\left (\\theta_{0} \\right )} \\sin{\\left (\\theta_{1} \\right )} + \\cos{\\left (\\theta_{0} \\right )} \\cos{\\left (\\theta_{1} \\right )}\\right) \\cos{\\left (\\theta_{2} \\right )} + \\left(- \\sin{\\left (\\theta_{0} \\right )} \\cos{\\left (\\theta_{1} \\right )} - \\sin{\\left (\\theta_{1} \\right )} \\cos{\\left (\\theta_{0} \\right )}\\right) \\sin{\\left (\\theta_{2} \\right )}\\right) \\cos{\\left (\\theta_{3} \\right )} & \\left(- \\left(- \\sin{\\left (\\theta_{0} \\right )} \\sin{\\left (\\theta_{1} \\right )} + \\cos{\\left (\\theta_{0} \\right )} \\cos{\\left (\\theta_{1} \\right )}\\right) \\sin{\\left (\\theta_{2} \\right )} + \\left(- \\sin{\\left (\\theta_{0} \\right )} \\cos{\\left (\\theta_{1} \\right )} - \\sin{\\left (\\theta_{1} \\right )} \\cos{\\left (\\theta_{0} \\right )}\\right) \\cos{\\left (\\theta_{2} \\right )}\\right) \\cos{\\left (\\theta_{3} \\right )} - \\left(\\left(- \\sin{\\left (\\theta_{0} \\right )} \\sin{\\left (\\theta_{1} \\right )} + \\cos{\\left (\\theta_{0} \\right )} \\cos{\\left (\\theta_{1} \\right )}\\right) \\cos{\\left (\\theta_{2} \\right )} + \\left(- \\sin{\\left (\\theta_{0} \\right )} \\cos{\\left (\\theta_{1} \\right )} - \\sin{\\left (\\theta_{1} \\right )} \\cos{\\left (\\theta_{0} \\right )}\\right) \\sin{\\left (\\theta_{2} \\right )}\\right) \\sin{\\left (\\theta_{3} \\right )} & l_{1} \\cos{\\left (\\theta_{0} \\right )} + l_{2} \\left(- \\sin{\\left (\\theta_{0} \\right )} \\sin{\\left (\\theta_{1} \\right )} + \\cos{\\left (\\theta_{0} \\right )} \\cos{\\left (\\theta_{1} \\right )}\\right) + l_{3} \\left(\\left(- \\sin{\\left (\\theta_{0} \\right )} \\sin{\\left (\\theta_{1} \\right )} + \\cos{\\left (\\theta_{0} \\right )} \\cos{\\left (\\theta_{1} \\right )}\\right) \\cos{\\left (\\theta_{2} \\right )} + \\left(- \\sin{\\left (\\theta_{0} \\right )} \\cos{\\left (\\theta_{1} \\right )} - \\sin{\\left (\\theta_{1} \\right )} \\cos{\\left (\\theta_{0} \\right )}\\right) \\sin{\\left (\\theta_{2} \\right )}\\right) + l_{4} \\left(\\left(- \\left(- \\sin{\\left (\\theta_{0} \\right )} \\sin{\\left (\\theta_{1} \\right )} + \\cos{\\left (\\theta_{0} \\right )} \\cos{\\left (\\theta_{1} \\right )}\\right) \\sin{\\left (\\theta_{2} \\right )} + \\left(- \\sin{\\left (\\theta_{0} \\right )} \\cos{\\left (\\theta_{1} \\right )} - \\sin{\\left (\\theta_{1} \\right )} \\cos{\\left (\\theta_{0} \\right )}\\right) \\cos{\\left (\\theta_{2} \\right )}\\right) \\sin{\\left (\\theta_{3} \\right )} + \\left(\\left(- \\sin{\\left (\\theta_{0} \\right )} \\sin{\\left (\\theta_{1} \\right )} + \\cos{\\left (\\theta_{0} \\right )} \\cos{\\left (\\theta_{1} \\right )}\\right) \\cos{\\left (\\theta_{2} \\right )} + \\left(- \\sin{\\left (\\theta_{0} \\right )} \\cos{\\left (\\theta_{1} \\right )} - \\sin{\\left (\\theta_{1} \\right )} \\cos{\\left (\\theta_{0} \\right )}\\right) \\sin{\\left (\\theta_{2} \\right )}\\right) \\cos{\\left (\\theta_{3} \\right )}\\right)\\\\\\left(\\left(- \\sin{\\left (\\theta_{0} \\right )} \\sin{\\left (\\theta_{1} \\right )} + \\cos{\\left (\\theta_{0} \\right )} \\cos{\\left (\\theta_{1} \\right )}\\right) \\sin{\\left (\\theta_{2} \\right )} + \\left(\\sin{\\left (\\theta_{0} \\right )} \\cos{\\left (\\theta_{1} \\right )} + \\sin{\\left (\\theta_{1} \\right )} \\cos{\\left (\\theta_{0} \\right )}\\right) \\cos{\\left (\\theta_{2} \\right )}\\right) \\cos{\\left (\\theta_{3} \\right )} + \\left(\\left(- \\sin{\\left (\\theta_{0} \\right )} \\sin{\\left (\\theta_{1} \\right )} + \\cos{\\left (\\theta_{0} \\right )} \\cos{\\left (\\theta_{1} \\right )}\\right) \\cos{\\left (\\theta_{2} \\right )} - \\left(\\sin{\\left (\\theta_{0} \\right )} \\cos{\\left (\\theta_{1} \\right )} + \\sin{\\left (\\theta_{1} \\right )} \\cos{\\left (\\theta_{0} \\right )}\\right) \\sin{\\left (\\theta_{2} \\right )}\\right) \\sin{\\left (\\theta_{3} \\right )} & - \\left(\\left(- \\sin{\\left (\\theta_{0} \\right )} \\sin{\\left (\\theta_{1} \\right )} + \\cos{\\left (\\theta_{0} \\right )} \\cos{\\left (\\theta_{1} \\right )}\\right) \\sin{\\left (\\theta_{2} \\right )} + \\left(\\sin{\\left (\\theta_{0} \\right )} \\cos{\\left (\\theta_{1} \\right )} + \\sin{\\left (\\theta_{1} \\right )} \\cos{\\left (\\theta_{0} \\right )}\\right) \\cos{\\left (\\theta_{2} \\right )}\\right) \\sin{\\left (\\theta_{3} \\right )} + \\left(\\left(- \\sin{\\left (\\theta_{0} \\right )} \\sin{\\left (\\theta_{1} \\right )} + \\cos{\\left (\\theta_{0} \\right )} \\cos{\\left (\\theta_{1} \\right )}\\right) \\cos{\\left (\\theta_{2} \\right )} - \\left(\\sin{\\left (\\theta_{0} \\right )} \\cos{\\left (\\theta_{1} \\right )} + \\sin{\\left (\\theta_{1} \\right )} \\cos{\\left (\\theta_{0} \\right )}\\right) \\sin{\\left (\\theta_{2} \\right )}\\right) \\cos{\\left (\\theta_{3} \\right )} & l_{1} \\sin{\\left (\\theta_{0} \\right )} + l_{2} \\left(\\sin{\\left (\\theta_{0} \\right )} \\cos{\\left (\\theta_{1} \\right )} + \\sin{\\left (\\theta_{1} \\right )} \\cos{\\left (\\theta_{0} \\right )}\\right) + l_{3} \\left(\\left(- \\sin{\\left (\\theta_{0} \\right )} \\sin{\\left (\\theta_{1} \\right )} + \\cos{\\left (\\theta_{0} \\right )} \\cos{\\left (\\theta_{1} \\right )}\\right) \\sin{\\left (\\theta_{2} \\right )} + \\left(\\sin{\\left (\\theta_{0} \\right )} \\cos{\\left (\\theta_{1} \\right )} + \\sin{\\left (\\theta_{1} \\right )} \\cos{\\left (\\theta_{0} \\right )}\\right) \\cos{\\left (\\theta_{2} \\right )}\\right) + l_{4} \\left(\\left(\\left(- \\sin{\\left (\\theta_{0} \\right )} \\sin{\\left (\\theta_{1} \\right )} + \\cos{\\left (\\theta_{0} \\right )} \\cos{\\left (\\theta_{1} \\right )}\\right) \\sin{\\left (\\theta_{2} \\right )} + \\left(\\sin{\\left (\\theta_{0} \\right )} \\cos{\\left (\\theta_{1} \\right )} + \\sin{\\left (\\theta_{1} \\right )} \\cos{\\left (\\theta_{0} \\right )}\\right) \\cos{\\left (\\theta_{2} \\right )}\\right) \\cos{\\left (\\theta_{3} \\right )} + \\left(\\left(- \\sin{\\left (\\theta_{0} \\right )} \\sin{\\left (\\theta_{1} \\right )} + \\cos{\\left (\\theta_{0} \\right )} \\cos{\\left (\\theta_{1} \\right )}\\right) \\cos{\\left (\\theta_{2} \\right )} - \\left(\\sin{\\left (\\theta_{0} \\right )} \\cos{\\left (\\theta_{1} \\right )} + \\sin{\\left (\\theta_{1} \\right )} \\cos{\\left (\\theta_{0} \\right )}\\right) \\sin{\\left (\\theta_{2} \\right )}\\right) \\sin{\\left (\\theta_{3} \\right )}\\right)\\\\0 & 0 & 1\\end{matrix}\\right]$$"
       ],
       "metadata": {},
       "output_type": "pyout",
       "png": "[encoded data removed]",
       "prompt_number": 35,
       "text": [
        "\u23a1(-(-sin(\u03b8\u2080)\u22c5sin(\u03b8\u2081) + cos(\u03b8\u2080)\u22c5cos(\u03b8\u2081))\u22c5sin(\u03b8\u2082) + (-sin(\u03b8\u2080)\u22c5cos(\u03b8\u2081) - sin(\u03b8\u2081)\u22c5\n",
        "\u23a2                                                                             \n",
        "\u23a2 ((-sin(\u03b8\u2080)\u22c5sin(\u03b8\u2081) + cos(\u03b8\u2080)\u22c5cos(\u03b8\u2081))\u22c5sin(\u03b8\u2082) + (sin(\u03b8\u2080)\u22c5cos(\u03b8\u2081) + sin(\u03b8\u2081)\u22c5c\n",
        "\u23a2                                                                             \n",
        "\u23a3                                                                             \n",
        "\n",
        "cos(\u03b8\u2080))\u22c5cos(\u03b8\u2082))\u22c5sin(\u03b8\u2083) + ((-sin(\u03b8\u2080)\u22c5sin(\u03b8\u2081) + cos(\u03b8\u2080)\u22c5cos(\u03b8\u2081))\u22c5cos(\u03b8\u2082) + (-\n",
        "                                                                              \n",
        "os(\u03b8\u2080))\u22c5cos(\u03b8\u2082))\u22c5cos(\u03b8\u2083) + ((-sin(\u03b8\u2080)\u22c5sin(\u03b8\u2081) + cos(\u03b8\u2080)\u22c5cos(\u03b8\u2081))\u22c5cos(\u03b8\u2082) - (si\n",
        "                                                                              \n",
        "                         0                                                    \n",
        "\n",
        "sin(\u03b8\u2080)\u22c5cos(\u03b8\u2081) - sin(\u03b8\u2081)\u22c5cos(\u03b8\u2080))\u22c5sin(\u03b8\u2082))\u22c5cos(\u03b8\u2083)  (-(-sin(\u03b8\u2080)\u22c5sin(\u03b8\u2081) + cos\n",
        "                                                                              \n",
        "n(\u03b8\u2080)\u22c5cos(\u03b8\u2081) + sin(\u03b8\u2081)\u22c5cos(\u03b8\u2080))\u22c5sin(\u03b8\u2082))\u22c5sin(\u03b8\u2083)     -((-sin(\u03b8\u2080)\u22c5sin(\u03b8\u2081) + co\n",
        "                                                                              \n",
        "                                                                              \n",
        "\n",
        "(\u03b8\u2080)\u22c5cos(\u03b8\u2081))\u22c5sin(\u03b8\u2082) + (-sin(\u03b8\u2080)\u22c5cos(\u03b8\u2081) - sin(\u03b8\u2081)\u22c5cos(\u03b8\u2080))\u22c5cos(\u03b8\u2082))\u22c5cos(\u03b8\u2083) \n",
        "                                                                              \n",
        "s(\u03b8\u2080)\u22c5cos(\u03b8\u2081))\u22c5sin(\u03b8\u2082) + (sin(\u03b8\u2080)\u22c5cos(\u03b8\u2081) + sin(\u03b8\u2081)\u22c5cos(\u03b8\u2080))\u22c5cos(\u03b8\u2082))\u22c5sin(\u03b8\u2083) \n",
        "                                                                              \n",
        "                                                                             0\n",
        "\n",
        "- ((-sin(\u03b8\u2080)\u22c5sin(\u03b8\u2081) + cos(\u03b8\u2080)\u22c5cos(\u03b8\u2081))\u22c5cos(\u03b8\u2082) + (-sin(\u03b8\u2080)\u22c5cos(\u03b8\u2081) - sin(\u03b8\u2081)\u22c5\n",
        "                                                                              \n",
        "+ ((-sin(\u03b8\u2080)\u22c5sin(\u03b8\u2081) + cos(\u03b8\u2080)\u22c5cos(\u03b8\u2081))\u22c5cos(\u03b8\u2082) - (sin(\u03b8\u2080)\u22c5cos(\u03b8\u2081) + sin(\u03b8\u2081)\u22c5c\n",
        "                                                                              \n",
        "                                                                              \n",
        "\n",
        "cos(\u03b8\u2080))\u22c5sin(\u03b8\u2082))\u22c5sin(\u03b8\u2083)  l\u2081\u22c5cos(\u03b8\u2080) + l\u2082\u22c5(-sin(\u03b8\u2080)\u22c5sin(\u03b8\u2081) + cos(\u03b8\u2080)\u22c5cos(\u03b8\u2081)\n",
        "                                                                              \n",
        "os(\u03b8\u2080))\u22c5sin(\u03b8\u2082))\u22c5cos(\u03b8\u2083)     l\u2081\u22c5sin(\u03b8\u2080) + l\u2082\u22c5(sin(\u03b8\u2080)\u22c5cos(\u03b8\u2081) + sin(\u03b8\u2081)\u22c5cos(\u03b8\u2080\n",
        "                                                                              \n",
        "                                                                              \n",
        "\n",
        ") + l\u2083\u22c5((-sin(\u03b8\u2080)\u22c5sin(\u03b8\u2081) + cos(\u03b8\u2080)\u22c5cos(\u03b8\u2081))\u22c5cos(\u03b8\u2082) + (-sin(\u03b8\u2080)\u22c5cos(\u03b8\u2081) - sin\n",
        "                                                                              \n",
        ")) + l\u2083\u22c5((-sin(\u03b8\u2080)\u22c5sin(\u03b8\u2081) + cos(\u03b8\u2080)\u22c5cos(\u03b8\u2081))\u22c5sin(\u03b8\u2082) + (sin(\u03b8\u2080)\u22c5cos(\u03b8\u2081) + sin\n",
        "                                                                              \n",
        "                                                                              \n",
        "\n",
        "(\u03b8\u2081)\u22c5cos(\u03b8\u2080))\u22c5sin(\u03b8\u2082)) + l\u2084\u22c5((-(-sin(\u03b8\u2080)\u22c5sin(\u03b8\u2081) + cos(\u03b8\u2080)\u22c5cos(\u03b8\u2081))\u22c5sin(\u03b8\u2082) + \n",
        "                                                                              \n",
        "(\u03b8\u2081)\u22c5cos(\u03b8\u2080))\u22c5cos(\u03b8\u2082)) + l\u2084\u22c5(((-sin(\u03b8\u2080)\u22c5sin(\u03b8\u2081) + cos(\u03b8\u2080)\u22c5cos(\u03b8\u2081))\u22c5sin(\u03b8\u2082) + (\n",
        "                                                                              \n",
        "                                                     1                        \n",
        "\n",
        "(-sin(\u03b8\u2080)\u22c5cos(\u03b8\u2081) - sin(\u03b8\u2081)\u22c5cos(\u03b8\u2080))\u22c5cos(\u03b8\u2082))\u22c5sin(\u03b8\u2083) + ((-sin(\u03b8\u2080)\u22c5sin(\u03b8\u2081) + c\n",
        "                                                                              \n",
        "sin(\u03b8\u2080)\u22c5cos(\u03b8\u2081) + sin(\u03b8\u2081)\u22c5cos(\u03b8\u2080))\u22c5cos(\u03b8\u2082))\u22c5cos(\u03b8\u2083) + ((-sin(\u03b8\u2080)\u22c5sin(\u03b8\u2081) + cos\n",
        "                                                                              \n",
        "                                                                              \n",
        "\n",
        "os(\u03b8\u2080)\u22c5cos(\u03b8\u2081))\u22c5cos(\u03b8\u2082) + (-sin(\u03b8\u2080)\u22c5cos(\u03b8\u2081) - sin(\u03b8\u2081)\u22c5cos(\u03b8\u2080))\u22c5sin(\u03b8\u2082))\u22c5cos(\u03b8\u2083\n",
        "                                                                              \n",
        "(\u03b8\u2080)\u22c5cos(\u03b8\u2081))\u22c5cos(\u03b8\u2082) - (sin(\u03b8\u2080)\u22c5cos(\u03b8\u2081) + sin(\u03b8\u2081)\u22c5cos(\u03b8\u2080))\u22c5sin(\u03b8\u2082))\u22c5sin(\u03b8\u2083)) \n",
        "                                                                              \n",
        "                                                                              \n",
        "\n",
        "))\u23a4\n",
        "  \u23a5\n",
        "  \u23a5\n",
        "  \u23a5\n",
        "  \u23a6"
       ]
      }
     ],
     "prompt_number": 35
    },
    {
     "cell_type": "code",
     "collapsed": false,
     "input": [
      "Te = simplify(Te)\n",
      "Te"
     ],
     "language": "python",
     "metadata": {},
     "outputs": [
      {
       "latex": [
        "$$\\left[\\begin{matrix}\\cos{\\left (\\theta_{0} + \\theta_{1} + \\theta_{2} + \\theta_{3} \\right )} & - \\sin{\\left (\\theta_{0} + \\theta_{1} + \\theta_{2} + \\theta_{3} \\right )} & l_{1} \\cos{\\left (\\theta_{0} \\right )} + l_{2} \\cos{\\left (\\theta_{0} + \\theta_{1} \\right )} + l_{3} \\cos{\\left (\\theta_{0} + \\theta_{1} + \\theta_{2} \\right )} + l_{4} \\cos{\\left (\\theta_{0} + \\theta_{1} + \\theta_{2} + \\theta_{3} \\right )}\\\\\\sin{\\left (\\theta_{0} + \\theta_{1} + \\theta_{2} + \\theta_{3} \\right )} & \\cos{\\left (\\theta_{0} + \\theta_{1} + \\theta_{2} + \\theta_{3} \\right )} & l_{1} \\sin{\\left (\\theta_{0} \\right )} + l_{2} \\sin{\\left (\\theta_{0} + \\theta_{1} \\right )} + l_{3} \\sin{\\left (\\theta_{0} + \\theta_{1} + \\theta_{2} \\right )} + l_{4} \\sin{\\left (\\theta_{0} + \\theta_{1} + \\theta_{2} + \\theta_{3} \\right )}\\\\0 & 0 & 1\\end{matrix}\\right]$$"
       ],
       "metadata": {},
       "output_type": "pyout",
       "png": "[encoded data removed]",
       "prompt_number": 36,
       "text": [
        "\u23a1cos(\u03b8\u2080 + \u03b8\u2081 + \u03b8\u2082 + \u03b8\u2083)  -sin(\u03b8\u2080 + \u03b8\u2081 + \u03b8\u2082 + \u03b8\u2083)  l\u2081\u22c5cos(\u03b8\u2080) + l\u2082\u22c5cos(\u03b8\u2080 + \u03b8\u2081)\n",
        "\u23a2                                                                             \n",
        "\u23a2sin(\u03b8\u2080 + \u03b8\u2081 + \u03b8\u2082 + \u03b8\u2083)  cos(\u03b8\u2080 + \u03b8\u2081 + \u03b8\u2082 + \u03b8\u2083)   l\u2081\u22c5sin(\u03b8\u2080) + l\u2082\u22c5sin(\u03b8\u2080 + \u03b8\u2081)\n",
        "\u23a2                                                                             \n",
        "\u23a3          0                        0                                         \n",
        "\n",
        " + l\u2083\u22c5cos(\u03b8\u2080 + \u03b8\u2081 + \u03b8\u2082) + l\u2084\u22c5cos(\u03b8\u2080 + \u03b8\u2081 + \u03b8\u2082 + \u03b8\u2083)\u23a4\n",
        "                                                   \u23a5\n",
        " + l\u2083\u22c5sin(\u03b8\u2080 + \u03b8\u2081 + \u03b8\u2082) + l\u2084\u22c5sin(\u03b8\u2080 + \u03b8\u2081 + \u03b8\u2082 + \u03b8\u2083)\u23a5\n",
        "                                                   \u23a5\n",
        "           1                                       \u23a6"
       ]
      }
     ],
     "prompt_number": 36
    },
    {
     "cell_type": "code",
     "collapsed": false,
     "input": [
      "eq = Te * trans(x, y, theta).inv() - T0\n",
      "eq"
     ],
     "language": "python",
     "metadata": {},
     "outputs": [
      {
       "latex": [
        "$$\\left[\\begin{matrix}\\left(- \\frac{\\sin^{2}{\\left (\\theta \\right )}}{\\cos{\\left (\\theta \\right )}} + \\frac{1}{\\cos{\\left (\\theta \\right )}}\\right) \\cos{\\left (\\theta_{0} + \\theta_{1} + \\theta_{2} + \\theta_{3} \\right )} + \\sin{\\left (\\theta \\right )} \\sin{\\left (\\theta_{0} + \\theta_{1} + \\theta_{2} + \\theta_{3} \\right )} - 1 & \\sin{\\left (\\theta \\right )} \\cos{\\left (\\theta_{0} + \\theta_{1} + \\theta_{2} + \\theta_{3} \\right )} - \\sin{\\left (\\theta_{0} + \\theta_{1} + \\theta_{2} + \\theta_{3} \\right )} \\cos{\\left (\\theta \\right )} & l_{1} \\cos{\\left (\\theta_{0} \\right )} + l_{2} \\cos{\\left (\\theta_{0} + \\theta_{1} \\right )} + l_{3} \\cos{\\left (\\theta_{0} + \\theta_{1} + \\theta_{2} \\right )} + l_{4} \\cos{\\left (\\theta_{0} + \\theta_{1} + \\theta_{2} + \\theta_{3} \\right )} + \\left(- \\frac{x}{\\cos{\\left (\\theta \\right )}} - \\left(- \\frac{x \\sin{\\left (\\theta \\right )}}{\\cos{\\left (\\theta \\right )}} + y\\right) \\sin{\\left (\\theta \\right )}\\right) \\cos{\\left (\\theta_{0} + \\theta_{1} + \\theta_{2} + \\theta_{3} \\right )} + \\left(- \\frac{x \\sin{\\left (\\theta \\right )}}{\\cos{\\left (\\theta \\right )}} + y\\right) \\sin{\\left (\\theta_{0} + \\theta_{1} + \\theta_{2} + \\theta_{3} \\right )} \\cos{\\left (\\theta \\right )}\\\\\\left(- \\frac{\\sin^{2}{\\left (\\theta \\right )}}{\\cos{\\left (\\theta \\right )}} + \\frac{1}{\\cos{\\left (\\theta \\right )}}\\right) \\sin{\\left (\\theta_{0} + \\theta_{1} + \\theta_{2} + \\theta_{3} \\right )} - \\sin{\\left (\\theta \\right )} \\cos{\\left (\\theta_{0} + \\theta_{1} + \\theta_{2} + \\theta_{3} \\right )} & \\sin{\\left (\\theta \\right )} \\sin{\\left (\\theta_{0} + \\theta_{1} + \\theta_{2} + \\theta_{3} \\right )} + \\cos{\\left (\\theta \\right )} \\cos{\\left (\\theta_{0} + \\theta_{1} + \\theta_{2} + \\theta_{3} \\right )} - 1 & l_{1} \\sin{\\left (\\theta_{0} \\right )} + l_{2} \\sin{\\left (\\theta_{0} + \\theta_{1} \\right )} + l_{3} \\sin{\\left (\\theta_{0} + \\theta_{1} + \\theta_{2} \\right )} + l_{4} \\sin{\\left (\\theta_{0} + \\theta_{1} + \\theta_{2} + \\theta_{3} \\right )} + \\left(- \\frac{x}{\\cos{\\left (\\theta \\right )}} - \\left(- \\frac{x \\sin{\\left (\\theta \\right )}}{\\cos{\\left (\\theta \\right )}} + y\\right) \\sin{\\left (\\theta \\right )}\\right) \\sin{\\left (\\theta_{0} + \\theta_{1} + \\theta_{2} + \\theta_{3} \\right )} - \\left(- \\frac{x \\sin{\\left (\\theta \\right )}}{\\cos{\\left (\\theta \\right )}} + y\\right) \\cos{\\left (\\theta \\right )} \\cos{\\left (\\theta_{0} + \\theta_{1} + \\theta_{2} + \\theta_{3} \\right )}\\\\0 & 0 & 0\\end{matrix}\\right]$$"
       ],
       "metadata": {},
       "output_type": "pyout",
       "png": "[encoded data removed]",
       "prompt_number": 37,
       "text": [
        "\u23a1\u239b     2            \u239e                                                         \n",
        "\u23a2\u239c  sin (\u03b8)     1   \u239f                                                         \n",
        "\u23a2\u239c- \u2500\u2500\u2500\u2500\u2500\u2500\u2500 + \u2500\u2500\u2500\u2500\u2500\u2500\u239f\u22c5cos(\u03b8\u2080 + \u03b8\u2081 + \u03b8\u2082 + \u03b8\u2083) + sin(\u03b8)\u22c5sin(\u03b8\u2080 + \u03b8\u2081 + \u03b8\u2082 + \u03b8\u2083) -\n",
        "\u23a2\u239d   cos(\u03b8)   cos(\u03b8)\u23a0                                                         \n",
        "\u23a2                                                                             \n",
        "\u23a2  \u239b     2            \u239e                                                       \n",
        "\u23a2  \u239c  sin (\u03b8)     1   \u239f                                                       \n",
        "\u23a2  \u239c- \u2500\u2500\u2500\u2500\u2500\u2500\u2500 + \u2500\u2500\u2500\u2500\u2500\u2500\u239f\u22c5sin(\u03b8\u2080 + \u03b8\u2081 + \u03b8\u2082 + \u03b8\u2083) - sin(\u03b8)\u22c5cos(\u03b8\u2080 + \u03b8\u2081 + \u03b8\u2082 + \u03b8\u2083)\n",
        "\u23a2  \u239d   cos(\u03b8)   cos(\u03b8)\u23a0                                                       \n",
        "\u23a2                                                                             \n",
        "\u23a3                                       0                                     \n",
        "\n",
        "                                                                              \n",
        "                                                                              \n",
        " 1    sin(\u03b8)\u22c5cos(\u03b8\u2080 + \u03b8\u2081 + \u03b8\u2082 + \u03b8\u2083) - sin(\u03b8\u2080 + \u03b8\u2081 + \u03b8\u2082 + \u03b8\u2083)\u22c5cos(\u03b8)    l\u2081\u22c5cos(\n",
        "                                                                              \n",
        "                                                                              \n",
        "                                                                              \n",
        "                                                                              \n",
        "    sin(\u03b8)\u22c5sin(\u03b8\u2080 + \u03b8\u2081 + \u03b8\u2082 + \u03b8\u2083) + cos(\u03b8)\u22c5cos(\u03b8\u2080 + \u03b8\u2081 + \u03b8\u2082 + \u03b8\u2083) - 1  l\u2081\u22c5sin(\n",
        "                                                                              \n",
        "                                                                              \n",
        "                                    0                                         \n",
        "\n",
        "                                                                              \n",
        "                                                                           \u239b  \n",
        "\u03b8\u2080) + l\u2082\u22c5cos(\u03b8\u2080 + \u03b8\u2081) + l\u2083\u22c5cos(\u03b8\u2080 + \u03b8\u2081 + \u03b8\u2082) + l\u2084\u22c5cos(\u03b8\u2080 + \u03b8\u2081 + \u03b8\u2082 + \u03b8\u2083) + \u239c- \n",
        "                                                                           \u239d  \n",
        "                                                                              \n",
        "                                                                              \n",
        "                                                                           \u239b  \n",
        "\u03b8\u2080) + l\u2082\u22c5sin(\u03b8\u2080 + \u03b8\u2081) + l\u2083\u22c5sin(\u03b8\u2080 + \u03b8\u2081 + \u03b8\u2082) + l\u2084\u22c5sin(\u03b8\u2080 + \u03b8\u2081 + \u03b8\u2082 + \u03b8\u2083) + \u239c- \n",
        "                                                                           \u239d  \n",
        "                                                                              \n",
        "                                                                              \n",
        "\n",
        "                                                                              \n",
        "  x      \u239b  x\u22c5sin(\u03b8)    \u239e       \u239e                          \u239b  x\u22c5sin(\u03b8)    \u239e   \n",
        "\u2500\u2500\u2500\u2500\u2500\u2500 - \u239c- \u2500\u2500\u2500\u2500\u2500\u2500\u2500\u2500 + y\u239f\u22c5sin(\u03b8)\u239f\u22c5cos(\u03b8\u2080 + \u03b8\u2081 + \u03b8\u2082 + \u03b8\u2083) + \u239c- \u2500\u2500\u2500\u2500\u2500\u2500\u2500\u2500 + y\u239f\u22c5si\n",
        "cos(\u03b8)   \u239d   cos(\u03b8)     \u23a0       \u23a0                          \u239d   cos(\u03b8)     \u23a0   \n",
        "                                                                              \n",
        "                                                                              \n",
        "  x      \u239b  x\u22c5sin(\u03b8)    \u239e       \u239e                          \u239b  x\u22c5sin(\u03b8)    \u239e   \n",
        "\u2500\u2500\u2500\u2500\u2500\u2500 - \u239c- \u2500\u2500\u2500\u2500\u2500\u2500\u2500\u2500 + y\u239f\u22c5sin(\u03b8)\u239f\u22c5sin(\u03b8\u2080 + \u03b8\u2081 + \u03b8\u2082 + \u03b8\u2083) - \u239c- \u2500\u2500\u2500\u2500\u2500\u2500\u2500\u2500 + y\u239f\u22c5co\n",
        "cos(\u03b8)   \u239d   cos(\u03b8)     \u23a0       \u23a0                          \u239d   cos(\u03b8)     \u23a0   \n",
        "                                                                              \n",
        "         0                                                                    \n",
        "\n",
        "                           \u23a4\n",
        "                           \u23a5\n",
        "n(\u03b8\u2080 + \u03b8\u2081 + \u03b8\u2082 + \u03b8\u2083)\u22c5cos(\u03b8)\u23a5\n",
        "                           \u23a5\n",
        "                           \u23a5\n",
        "                           \u23a5\n",
        "                           \u23a5\n",
        "s(\u03b8)\u22c5cos(\u03b8\u2080 + \u03b8\u2081 + \u03b8\u2082 + \u03b8\u2083)\u23a5\n",
        "                           \u23a5\n",
        "                           \u23a5\n",
        "                           \u23a6"
       ]
      }
     ],
     "prompt_number": 37
    },
    {
     "cell_type": "code",
     "collapsed": false,
     "input": [
      "eq = [a[0] + a[1] + a[2] - theta, eq[0, 2], eq[1, 2]]\n",
      "eq"
     ],
     "language": "python",
     "metadata": {},
     "outputs": [
      {
       "latex": [
        "$$\\left [ - \\theta + \\theta_{0} + \\theta_{1} + \\theta_{2}, \\quad l_{1} \\cos{\\left (\\theta_{0} \\right )} + l_{2} \\cos{\\left (\\theta_{0} + \\theta_{1} \\right )} + l_{3} \\cos{\\left (\\theta_{0} + \\theta_{1} + \\theta_{2} \\right )} + l_{4} \\cos{\\left (\\theta_{0} + \\theta_{1} + \\theta_{2} + \\theta_{3} \\right )} + \\left(- \\frac{x}{\\cos{\\left (\\theta \\right )}} - \\left(- \\frac{x \\sin{\\left (\\theta \\right )}}{\\cos{\\left (\\theta \\right )}} + y\\right) \\sin{\\left (\\theta \\right )}\\right) \\cos{\\left (\\theta_{0} + \\theta_{1} + \\theta_{2} + \\theta_{3} \\right )} + \\left(- \\frac{x \\sin{\\left (\\theta \\right )}}{\\cos{\\left (\\theta \\right )}} + y\\right) \\sin{\\left (\\theta_{0} + \\theta_{1} + \\theta_{2} + \\theta_{3} \\right )} \\cos{\\left (\\theta \\right )}, \\quad l_{1} \\sin{\\left (\\theta_{0} \\right )} + l_{2} \\sin{\\left (\\theta_{0} + \\theta_{1} \\right )} + l_{3} \\sin{\\left (\\theta_{0} + \\theta_{1} + \\theta_{2} \\right )} + l_{4} \\sin{\\left (\\theta_{0} + \\theta_{1} + \\theta_{2} + \\theta_{3} \\right )} + \\left(- \\frac{x}{\\cos{\\left (\\theta \\right )}} - \\left(- \\frac{x \\sin{\\left (\\theta \\right )}}{\\cos{\\left (\\theta \\right )}} + y\\right) \\sin{\\left (\\theta \\right )}\\right) \\sin{\\left (\\theta_{0} + \\theta_{1} + \\theta_{2} + \\theta_{3} \\right )} - \\left(- \\frac{x \\sin{\\left (\\theta \\right )}}{\\cos{\\left (\\theta \\right )}} + y\\right) \\cos{\\left (\\theta \\right )} \\cos{\\left (\\theta_{0} + \\theta_{1} + \\theta_{2} + \\theta_{3} \\right )}\\right ]$$"
       ],
       "metadata": {},
       "output_type": "pyout",
       "png": "[encoded data removed]",
       "prompt_number": 38,
       "text": [
        "\u23a1                                                                             \n",
        "\u23a2-\u03b8 + \u03b8\u2080 + \u03b8\u2081 + \u03b8\u2082, l\u2081\u22c5cos(\u03b8\u2080) + l\u2082\u22c5cos(\u03b8\u2080 + \u03b8\u2081) + l\u2083\u22c5cos(\u03b8\u2080 + \u03b8\u2081 + \u03b8\u2082) + l\u2084\u22c5c\n",
        "\u23a3                                                                             \n",
        "\n",
        "                        \u239b    x      \u239b  x\u22c5sin(\u03b8)    \u239e       \u239e                  \n",
        "os(\u03b8\u2080 + \u03b8\u2081 + \u03b8\u2082 + \u03b8\u2083) + \u239c- \u2500\u2500\u2500\u2500\u2500\u2500 - \u239c- \u2500\u2500\u2500\u2500\u2500\u2500\u2500\u2500 + y\u239f\u22c5sin(\u03b8)\u239f\u22c5cos(\u03b8\u2080 + \u03b8\u2081 + \u03b8\u2082 \n",
        "                        \u239d  cos(\u03b8)   \u239d   cos(\u03b8)     \u23a0       \u23a0                  \n",
        "\n",
        "        \u239b  x\u22c5sin(\u03b8)    \u239e                                                      \n",
        "+ \u03b8\u2083) + \u239c- \u2500\u2500\u2500\u2500\u2500\u2500\u2500\u2500 + y\u239f\u22c5sin(\u03b8\u2080 + \u03b8\u2081 + \u03b8\u2082 + \u03b8\u2083)\u22c5cos(\u03b8), l\u2081\u22c5sin(\u03b8\u2080) + l\u2082\u22c5sin(\u03b8\u2080\n",
        "        \u239d   cos(\u03b8)     \u23a0                                                      \n",
        "\n",
        "                                                            \u239b    x      \u239b  x\u22c5s\n",
        " + \u03b8\u2081) + l\u2083\u22c5sin(\u03b8\u2080 + \u03b8\u2081 + \u03b8\u2082) + l\u2084\u22c5sin(\u03b8\u2080 + \u03b8\u2081 + \u03b8\u2082 + \u03b8\u2083) + \u239c- \u2500\u2500\u2500\u2500\u2500\u2500 - \u239c- \u2500\u2500\u2500\n",
        "                                                            \u239d  cos(\u03b8)   \u239d   co\n",
        "\n",
        "in(\u03b8)    \u239e       \u239e                          \u239b  x\u22c5sin(\u03b8)    \u239e                  \n",
        "\u2500\u2500\u2500\u2500\u2500 + y\u239f\u22c5sin(\u03b8)\u239f\u22c5sin(\u03b8\u2080 + \u03b8\u2081 + \u03b8\u2082 + \u03b8\u2083) - \u239c- \u2500\u2500\u2500\u2500\u2500\u2500\u2500\u2500 + y\u239f\u22c5cos(\u03b8)\u22c5cos(\u03b8\u2080 + \u03b8\n",
        "s(\u03b8)     \u23a0       \u23a0                          \u239d   cos(\u03b8)     \u23a0                  \n",
        "\n",
        "            \u23a4\n",
        "\u2081 + \u03b8\u2082 + \u03b8\u2083)\u23a5\n",
        "            \u23a6"
       ]
      }
     ],
     "prompt_number": 38
    },
    {
     "cell_type": "code",
     "collapsed": false,
     "input": [
      "solve(eq, a)  # sympy is too stupid to solve it"
     ],
     "language": "python",
     "metadata": {},
     "outputs": []
    },
    {
     "cell_type": "code",
     "collapsed": false,
     "input": [
      "b = [symbols('theta_%d' % i) for i in range(N)]\n",
      "T3 = trans(x, y, theta) * trans(l[3], 0, 0).inv()\n",
      "l_1_2 = T3[0,-1] ** 2 + T3[1,-1] ** 2\n",
      "b_1_2 = acos((l[1] ** 2 + l[2] ** 2 - l_1_2) / (2 * l[1] * l[2]))  # cosine rule\n",
      "b[1] = pi - b_1_2\n",
      "b_1 = acos((l[1] ** 2 - l[2] ** 2 + l_1_2) / (2 * l[1] * sqrt(l_1_2)))  # cosine rule\n",
      "b_0 = atan(T3[1,-1] / T3[0,-1])\n",
      "b[0] = b_0 - b_1\n",
      "b[2] = atan(T3[1,0] / T3[0,0]) - b[0] - b[1]\n",
      "B = matrix([b]).T\n",
      "B = simplify(B)\n",
      "B"
     ],
     "language": "python",
     "metadata": {},
     "outputs": []
    },
    {
     "cell_type": "code",
     "collapsed": false,
     "input": [
      "print latex(B)"
     ],
     "language": "python",
     "metadata": {},
     "outputs": []
    },
    {
     "cell_type": "code",
     "collapsed": false,
     "input": [
      "T_new = forward_kinematics(T0, l, b)\n",
      "Te_new = T_new[-1]\n",
      "Te_new"
     ],
     "language": "python",
     "metadata": {},
     "outputs": []
    },
    {
     "cell_type": "code",
     "collapsed": false,
     "input": [
      "simplify(Te_new[0, 0])"
     ],
     "language": "python",
     "metadata": {},
     "outputs": []
    },
    {
     "cell_type": "code",
     "collapsed": false,
     "input": [
      "simplify(Te_new[1, 0])"
     ],
     "language": "python",
     "metadata": {},
     "outputs": []
    },
    {
     "cell_type": "code",
     "collapsed": false,
     "input": [
      "simplify(Te_new[0, -1])"
     ],
     "language": "python",
     "metadata": {},
     "outputs": []
    },
    {
     "cell_type": "heading",
     "level": 3,
     "metadata": {},
     "source": [
      "Test the analytical solution"
     ]
    },
    {
     "cell_type": "code",
     "collapsed": false,
     "input": [
      "from numpy import sin, cos, pi, matrix\n",
      "from math import atan2, acos\n",
      "\n",
      "T0 = trans(0, 0, 0)\n",
      "lv = [0] + range(N, 0, -1)  # length of link, l[0] is ingored\n",
      "bf = B\n",
      "for i in range(N):\n",
      "    bf = bf.subs(l[i + 1], lv[i + 1])\n",
      "\n",
      "def inverse_kinematics(x_e, y_e, theta_e):\n",
      "    b = bf.subs(x, x_e).subs(y, y_e).subs(theta, theta_e)\n",
      "    b = (b.subs('I', 1).subs('pi', pi).tolist())\n",
      "    b = [float(i[0]) for i in b]\n",
      "    return b\n",
      "    \n",
      "@interact(x_e=(0, max_len, 0.1), y_e=(-max_len, max_len, 0.1), theta_e=(-pi, pi, 0.1))\n",
      "def set_end_effector(x_e=6, y_e=0, theta_e=0):\n",
      "    b = inverse_kinematics(x_e, y_e, theta_e)\n",
      "    T = forward_kinematics(T0, lv, b)\n",
      "    show_robot_arm(T)"
     ],
     "language": "python",
     "metadata": {},
     "outputs": []
    },
    {
     "cell_type": "heading",
     "level": 3,
     "metadata": {},
     "source": [
      "Numerical Solution"
     ]
    },
    {
     "cell_type": "code",
     "collapsed": false,
     "input": [
      "from numpy import asarray\n",
      "theta = asarray([0.1] * N)\n",
      "def inverse_kinematics(x_e, y_e, theta_e, theta):\n",
      "    target = matrix([[x_e, y_e, theta_e]])\n",
      "    while True:\n",
      "        T = forward_kinematics(T0, lv, theta)\n",
      "        Te = matrix([from_trans(T[-1])])\n",
      "        e = target - Te\n",
      "        T = matrix([from_trans(i) for i in T[1:-1]])\n",
      "        J = Te - T\n",
      "        J = J.T\n",
      "        J[-1, :] = 1\n",
      "        JJT = J * J.T\n",
      "        d_theta = 0.001 * J.T * JJT.I * e.T\n",
      "        #print (d_theta.T * d_theta)[0, 0]\n",
      "        theta += asarray(d_theta.T)[0]\n",
      "        if (d_theta.T * d_theta)[0, 0] < 1e-6:\n",
      "            break\n",
      "    return theta\n",
      "\n",
      "T = forward_kinematics(T0, lv, theta)\n",
      "Te = matrix([from_trans(T[-1])])\n",
      "\n",
      "@interact(x_e=(0, max_len, 0.01), y_e=(-max_len, max_len, 0.01), theta_e=(-pi, pi, 0.01), theta=fixed(theta))\n",
      "def set_end_effector(x_e=Te[0,0], y_e=Te[0,1], theta_e=Te[0,2], theta=theta):\n",
      "    theta = inverse_kinematics(x_e, y_e, theta_e, theta)\n",
      "    T = forward_kinematics(T0, lv, theta)\n",
      "    show_robot_arm(T)"
     ],
     "language": "python",
     "metadata": {},
     "outputs": []
    },
    {
     "cell_type": "code",
     "collapsed": false,
     "input": [],
     "language": "python",
     "metadata": {},
     "outputs": []
    },
    {
     "cell_type": "code",
     "collapsed": false,
     "input": [],
     "language": "python",
     "metadata": {},
     "outputs": []
    }
   ],
   "metadata": {}
  }
 ]
}